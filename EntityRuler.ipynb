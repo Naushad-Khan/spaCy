{
 "cells": [
  {
   "cell_type": "code",
   "execution_count": 1,
   "metadata": {},
   "outputs": [
    {
     "name": "stdout",
     "output_type": "stream",
     "text": [
      "[]\n"
     ]
    }
   ],
   "source": [
    "# import necessary packages and tools \n",
    "import spacy\n",
    "from spacy.pipeline import EntityRuler # import EntityRuler from spacy\n",
    "\n",
    "# load a blank English model from spacy\n",
    "nlp = spacy.blank('en')\n",
    "\n",
    "# convert the input sentence into the document object \n",
    "doc = nlp(\"The First Estate included the clergy (church leaders), the Second Estate included the nobles, and the Third Estate included the commoners. The Third Estate paid most of the taxes, while the nobility lived lives of luxury and got all the high-ranking jobs.\")\n",
    "\n",
    "# print the entity types of each entity in the above sentence\n",
    "print([(ent.text, ent.label_) for ent in doc.ents])"
   ]
  },
  {
   "cell_type": "code",
   "execution_count": 2,
   "metadata": {},
   "outputs": [
    {
     "name": "stdout",
     "output_type": "stream",
     "text": [
      "[('The First Estate', 'ORG'), ('church', 'NOUN'), ('the Second Estate', 'ORG'), ('the Third Estate', 'ORG'), ('The Third Estate', 'ORG')]\n"
     ]
    }
   ],
   "source": [
    "# instantiate an object of EntityRuler class\n",
    "ruler = EntityRuler(nlp)\n",
    "\n",
    "# define the pattern\n",
    "patterns = [{\"label\": \"NOUN\", \"pattern\": \"church\"}, {\"label\": \"ORG\", \"pattern\": [{\"lower\": \"the\"}, {\"lower\": {\"IN\": [\"first\", \"second\", \"third\"]}}, {\"ORTH\": \"Estate\"}]}]\n",
    "\n",
    "# add the pattern to the matcher object\n",
    "ruler.add_patterns(patterns)\n",
    "\n",
    "# add the matcher object as a new pipe to the model\n",
    "nlp.add_pipe(ruler)\n",
    "\n",
    "# convert the input sentence into the document object using the newly added 'nlp'\n",
    "doc = nlp(\"The First Estate included the clergy (church leaders), the Second Estate included the nobles, and the Third Estate included the commoners. The Third Estate paid most of the taxes, while the nobility lived lives of luxury and got all the high-ranking jobs.\")\n",
    "\n",
    "# print the entities in the sentenced after adding the EntityRuler matcher\n",
    "print([(ent.text, ent.label_) for ent in doc.ents])"
   ]
  },
  {
   "cell_type": "code",
   "execution_count": null,
   "metadata": {},
   "outputs": [],
   "source": []
  }
 ],
 "metadata": {
  "kernelspec": {
   "display_name": "Python 3",
   "language": "python",
   "name": "python3"
  },
  "language_info": {
   "codemirror_mode": {
    "name": "ipython",
    "version": 3
   },
   "file_extension": ".py",
   "mimetype": "text/x-python",
   "name": "python",
   "nbconvert_exporter": "python",
   "pygments_lexer": "ipython3",
   "version": "3.7.1"
  }
 },
 "nbformat": 4,
 "nbformat_minor": 2
}
